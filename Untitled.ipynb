{
 "cells": [
  {
   "cell_type": "code",
   "execution_count": null,
   "id": "ee858bfa-b5d7-4c91-9255-ebb70b44e397",
   "metadata": {},
   "outputs": [],
   "source": []
  }
 ],
 "metadata": {
  "kernelspec": {
   "display_name": "",
   "name": ""
  },
  "language_info": {
   "name": ""
  }
 },
 "nbformat": 4,
 "nbformat_minor": 5
}
